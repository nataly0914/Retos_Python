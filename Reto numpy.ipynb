{
 "cells": [
  {
   "cell_type": "markdown",
   "metadata": {},
   "source": [
    "# Reto de Numpy con Estadística Básica"
   ]
  },
  {
   "cell_type": "markdown",
   "metadata": {},
   "source": [
    "Usted trabaja en una compañia de comidas (cereales) que esta desarrollando un nuevo producto. Su empresa quiere demostrar que tan saludable es el producto en comparacion a otras marcas y usted ha entrado a trabajar sobre los datos nutricionales de su marca. \n",
    "\n",
    "Tu trabajo es usar calculos estadisticos con NumPy para analizar esta data y probar que la marca para la cual trabajas es mas saludable que los productos de la competencia. "
   ]
  },
  {
   "cell_type": "markdown",
   "metadata": {},
   "source": [
    "1- Importa Numpy"
   ]
  },
  {
   "cell_type": "code",
   "execution_count": 2,
   "metadata": {},
   "outputs": [],
   "source": [
    "import numpy as np"
   ]
  },
  {
   "cell_type": "markdown",
   "metadata": {},
   "source": [
    "2- Hemos creado un archivo csv llamado `cereal.csv`, vaya <a href=\"https://drive.google.com/file/d/12m4me-bdc5X9HXmetS4XFGOiTYS2KOxw/view\" target=\"_blank\"> al siguiente link</a>, descargue el archivo en su ambiente virtual o en su máquina local y carguelo en la siguiente celda usando el método `genfromtxt` de Numpy. Este archivo contiene las calorias de los diferentes cereales de la competencia.\n",
    "\n",
    "Guarde el archivo como `calorie_stats` y luego imprímalo"
   ]
  },
  {
   "cell_type": "code",
   "execution_count": 3,
   "metadata": {},
   "outputs": [
    {
     "name": "stdout",
     "output_type": "stream",
     "text": [
      "[ 70. 120.  70.  50. 110. 110. 110. 130.  90.  90. 120. 110. 120. 110.\n",
      " 110. 110. 100. 110. 110. 110. 100. 110. 100. 100. 110. 110. 100. 120.\n",
      " 120. 110. 100. 110. 100. 110. 120. 120. 110. 110. 110. 140. 110. 100.\n",
      " 110. 100. 150. 150. 160. 100. 120. 140.  90. 130. 120. 100.  50.  50.\n",
      " 100. 100. 120. 100.  90. 110. 110.  80.  90.  90. 110. 110.  90. 110.\n",
      " 140. 100. 110. 110. 100. 100. 110.]\n"
     ]
    }
   ],
   "source": [
    "calorie_stats = np.genfromtxt('cereal.csv', delimiter = ',')\n",
    "print(calorie_stats)"
   ]
  },
  {
   "cell_type": "markdown",
   "metadata": {},
   "source": [
    "3- El producto de la empresa para la cual usted está trabajando tiene 60 calorias. Cual es el promedio de calorias de la competencia? Guarde la respuesta en una variable llamada `average_calories` e imprimala"
   ]
  },
  {
   "cell_type": "code",
   "execution_count": 4,
   "metadata": {},
   "outputs": [
    {
     "name": "stdout",
     "output_type": "stream",
     "text": [
      "106.88311688311688\n"
     ]
    }
   ],
   "source": [
    "#promedio\n",
    "average_calories = np.mean(calorie_stats)\n",
    "print(average_calories)"
   ]
  },
  {
   "cell_type": "markdown",
   "metadata": {},
   "source": [
    "4- Este promedio refleja adecuadamente la distribucion de los datos? Ordenelos de menor a mayor y analicemos. Guarde el resultado en una variable llamada `calorie_stats_sorted` e imprimala"
   ]
  },
  {
   "cell_type": "code",
   "execution_count": 5,
   "metadata": {},
   "outputs": [
    {
     "name": "stdout",
     "output_type": "stream",
     "text": [
      "[ 50.  50.  50.  70.  70.  80.  90.  90.  90.  90.  90.  90.  90. 100.\n",
      " 100. 100. 100. 100. 100. 100. 100. 100. 100. 100. 100. 100. 100. 100.\n",
      " 100. 100. 110. 110. 110. 110. 110. 110. 110. 110. 110. 110. 110. 110.\n",
      " 110. 110. 110. 110. 110. 110. 110. 110. 110. 110. 110. 110. 110. 110.\n",
      " 110. 110. 110. 120. 120. 120. 120. 120. 120. 120. 120. 120. 120. 130.\n",
      " 130. 140. 140. 140. 150. 150. 160.]\n"
     ]
    }
   ],
   "source": [
    "calorie_stats_sorted = np.sort(calorie_stats)\n",
    "print(calorie_stats_sorted)"
   ]
  },
  {
   "cell_type": "markdown",
   "metadata": {},
   "source": [
    "Si esta viendo lo mismo que nosotros, se dará cuenta que la mayoria de valores están por encima de la media de `106.88` que obtuvimos en el punto #3. Vemos si la mediana es mas representativa que la media en este caso. \n",
    "\n",
    "5- Calcule la Mediana y guárdela en una variable llamada `median_calories` e imprímala"
   ]
  },
  {
   "cell_type": "code",
   "execution_count": 6,
   "metadata": {},
   "outputs": [
    {
     "name": "stdout",
     "output_type": "stream",
     "text": [
      "110.0\n"
     ]
    }
   ],
   "source": [
    "#mediana\n",
    "median_calories = np.median(calorie_stats)\n",
    "print(median_calories)"
   ]
  },
  {
   "cell_type": "markdown",
   "metadata": {},
   "source": [
    "Si vemos, el dataset contiene muchos datos en ese valor de 110, y aparentemente esta representando mejor las mayorias. \n",
    "\n",
    "6- Calcule ahora los diferentes percentiles e imprimalos hasta que encuentre el percentil más bajo y que es mayor que 60 calorias. Guarde este valor en la variable `nth_percentile`\n",
    "\n",
    "**Nota**: esto lo puedes hacer calculando cada percentil de forma manual hasta que logres el percentil adecuado"
   ]
  },
  {
   "cell_type": "code",
   "execution_count": 12,
   "metadata": {},
   "outputs": [
    {
     "name": "stdout",
     "output_type": "stream",
     "text": [
      "70.0\n"
     ]
    }
   ],
   "source": [
    "print(np.percentile(calorie_stats,4))"
   ]
  },
  {
   "cell_type": "code",
   "execution_count": 13,
   "metadata": {},
   "outputs": [],
   "source": [
    "nth_percentile = 4"
   ]
  },
  {
   "cell_type": "markdown",
   "metadata": {},
   "source": [
    "7- Calculemos ahora el porcentaje de cereales que tienen más de 60 calorias. Guarde el valor en la variable `more_calories` e imprimala. Esto puedes hacerlo de varias formas, te recomendamos usando la media con Numpy.\n",
    "\n",
    "**Nota**: la media de Numpy combinada con un selector booleano es una poderosa función que nos permite hacer dos pasos en simultánea: seleccionar los valores que cumplen la condicion booleana (los cuales devuelven `True`) y luego calcular el peso que ellos tienen sobre el total de los datos!"
   ]
  },
  {
   "cell_type": "code",
   "execution_count": 9,
   "metadata": {},
   "outputs": [
    {
     "name": "stdout",
     "output_type": "stream",
     "text": [
      "96.1038961038961 %\n"
     ]
    }
   ],
   "source": [
    "more_calories = (sum(calorie_stats>60)/len(calorie_stats))*100\n",
    "print (more_calories, '%')"
   ]
  },
  {
   "cell_type": "markdown",
   "metadata": {},
   "source": [
    "8- También podemos llegar al mismo resultado restando 100 al `nth_percentile`. Haz el calculo y observa el resultado"
   ]
  },
  {
   "cell_type": "code",
   "execution_count": 14,
   "metadata": {},
   "outputs": [
    {
     "data": {
      "text/plain": [
       "96"
      ]
     },
     "execution_count": 14,
     "metadata": {},
     "output_type": "execute_result"
    }
   ],
   "source": [
    "100-nth_percentile"
   ]
  },
  {
   "cell_type": "markdown",
   "metadata": {},
   "source": [
    "Como vemos la gran mayoria de competidores tienen cereales con mas de +60 calorias. pero cuanta variacion hay en el set de datos? Podemos hacer una generalizacion diciendo que la mayoria tiene alrededor de 100 calorias o es la dispersion aún mas grande?\n",
    "\n",
    "9- Encuentre el monto de variacion calculando la desviacion standard. Guarde su respuesta en `calorie_std` e imprimala. Como podemos incorporar este valor en nuestro analisis?"
   ]
  },
  {
   "cell_type": "code",
   "execution_count": 11,
   "metadata": {},
   "outputs": [
    {
     "name": "stdout",
     "output_type": "stream",
     "text": [
      "19.35718533390827\n"
     ]
    }
   ],
   "source": [
    "calorie_std = np.std(calorie_stats)\n",
    "print(calorie_std)"
   ]
  },
  {
   "cell_type": "markdown",
   "metadata": {},
   "source": [
    "La forma de análizar estos datos es decir que, la media de calorías de la competencia es de `106.88` calorías y que la desviación estandar está entre `+19.35` calorías y `-19.35` calorías, o sea que el 68% de las calorias de la competencia se encuentra entre: `87.53` y `126.23` calorías, y si nosotros tenemos solo `60` calorías quiere decir que estamos ubicados entre los rangos inferiores, por lo que somos mucho más saludables!"
   ]
  },
  {
   "cell_type": "markdown",
   "metadata": {},
   "source": [
    "10- Escriba un parrafo corto acerca de sus resultados y como puede usarlo su empresa para las campañas de marketing?\n",
    "\n",
    "**Idea**: trata de analizar los percentiles y sacar conclusiones sobre ellos!"
   ]
  },
  {
   "cell_type": "code",
   "execution_count": 13,
   "metadata": {},
   "outputs": [],
   "source": [
    "## En desarrollo del análisis es posible idenficar que la mayoría de los cereales de la competencia tienen más de 60 calorías, dado que el 96,71% de ellos superan este límite. Además, el promedio de calorias de estos productos es de 106 con una desviación estándar de 19.35718533390827 calorias y la mediana (percentil 50) es de 110, indicando que efectivamente los niveles de calorías de la productos competidores son muy superiores a los de nuestro producto (cereal), siendo así más saludable."
   ]
  },
  {
   "cell_type": "code",
   "execution_count": null,
   "metadata": {},
   "outputs": [],
   "source": []
  }
 ],
 "metadata": {
  "kernelspec": {
   "display_name": "Python 3",
   "language": "python",
   "name": "python3"
  },
  "language_info": {
   "codemirror_mode": {
    "name": "ipython",
    "version": 3
   },
   "file_extension": ".py",
   "mimetype": "text/x-python",
   "name": "python",
   "nbconvert_exporter": "python",
   "pygments_lexer": "ipython3",
   "version": "3.8.3"
  }
 },
 "nbformat": 4,
 "nbformat_minor": 2
}
